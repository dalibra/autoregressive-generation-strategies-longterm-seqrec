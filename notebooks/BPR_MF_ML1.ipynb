{
 "cells": [
  {
   "cell_type": "code",
   "execution_count": 1,
   "id": "1bf6132d-2755-4c9e-945a-6c67418bdd0f",
   "metadata": {
    "tags": []
   },
   "outputs": [],
   "source": [
    "import os\n",
    "os.environ[\"CUDA_DEVICE_ORDER\"] = \"PCI_BUS_ID\"\n",
    "os.environ[\"CUDA_VISIBLE_DEVICES\"] = \"1\"\n",
    "import sys\n",
    "sys.path.append('../')"
   ]
  },
  {
   "cell_type": "code",
   "execution_count": null,
   "id": "96da0f91-c34a-48dc-9329-32076f13cf27",
   "metadata": {
    "tags": []
   },
   "outputs": [],
   "source": [
    "import pandas as pd\n",
    "import numpy as np\n",
    "import time\n",
    "from implicit.bpr import BayesianPersonalizedRanking\n",
    "from scipy.sparse import coo_matrix\n",
    "\n",
    "from src.preprocess import add_time_idx\n",
    "from sklearn.model_selection import train_test_split"
   ]
  },
  {
   "cell_type": "markdown",
   "id": "ce7d13ea-1a79-460d-a558-421745f38c3e",
   "metadata": {},
   "source": [
    "## Load Data"
   ]
  },
  {
   "cell_type": "code",
   "execution_count": 3,
   "id": "6b6aefa6-8c82-44f9-b75e-2038fa676bf6",
   "metadata": {
    "tags": []
   },
   "outputs": [],
   "source": [
    "DATA_PATH ='../data/ml-1m.csv'"
   ]
  },
  {
   "cell_type": "code",
   "execution_count": 4,
   "id": "e66a39a8-a6ab-4db6-a2cd-34dedc86b859",
   "metadata": {},
   "outputs": [
    {
     "name": "stdout",
     "output_type": "stream",
     "text": [
      "(1000209, 6)\n"
     ]
    },
    {
     "data": {
      "text/html": [
       "<div>\n",
       "<style scoped>\n",
       "    .dataframe tbody tr th:only-of-type {\n",
       "        vertical-align: middle;\n",
       "    }\n",
       "\n",
       "    .dataframe tbody tr th {\n",
       "        vertical-align: top;\n",
       "    }\n",
       "\n",
       "    .dataframe thead th {\n",
       "        text-align: right;\n",
       "    }\n",
       "</style>\n",
       "<table border=\"1\" class=\"dataframe\">\n",
       "  <thead>\n",
       "    <tr style=\"text-align: right;\">\n",
       "      <th></th>\n",
       "      <th>user_id</th>\n",
       "      <th>item_id</th>\n",
       "      <th>rating</th>\n",
       "      <th>timestamp</th>\n",
       "      <th>time_idx</th>\n",
       "      <th>time_idx_reversed</th>\n",
       "    </tr>\n",
       "  </thead>\n",
       "  <tbody>\n",
       "    <tr>\n",
       "      <th>0</th>\n",
       "      <td>1</td>\n",
       "      <td>3186</td>\n",
       "      <td>4</td>\n",
       "      <td>2000-12-31 22:00:19</td>\n",
       "      <td>0</td>\n",
       "      <td>52</td>\n",
       "    </tr>\n",
       "    <tr>\n",
       "      <th>1</th>\n",
       "      <td>1</td>\n",
       "      <td>1270</td>\n",
       "      <td>5</td>\n",
       "      <td>2000-12-31 22:00:55</td>\n",
       "      <td>1</td>\n",
       "      <td>51</td>\n",
       "    </tr>\n",
       "    <tr>\n",
       "      <th>2</th>\n",
       "      <td>1</td>\n",
       "      <td>1721</td>\n",
       "      <td>4</td>\n",
       "      <td>2000-12-31 22:00:55</td>\n",
       "      <td>2</td>\n",
       "      <td>50</td>\n",
       "    </tr>\n",
       "    <tr>\n",
       "      <th>3</th>\n",
       "      <td>1</td>\n",
       "      <td>1022</td>\n",
       "      <td>5</td>\n",
       "      <td>2000-12-31 22:00:55</td>\n",
       "      <td>3</td>\n",
       "      <td>49</td>\n",
       "    </tr>\n",
       "    <tr>\n",
       "      <th>4</th>\n",
       "      <td>1</td>\n",
       "      <td>2340</td>\n",
       "      <td>3</td>\n",
       "      <td>2000-12-31 22:01:43</td>\n",
       "      <td>4</td>\n",
       "      <td>48</td>\n",
       "    </tr>\n",
       "  </tbody>\n",
       "</table>\n",
       "</div>"
      ],
      "text/plain": [
       "   user_id  item_id  rating            timestamp  time_idx  time_idx_reversed\n",
       "0        1     3186       4  2000-12-31 22:00:19         0                 52\n",
       "1        1     1270       5  2000-12-31 22:00:55         1                 51\n",
       "2        1     1721       4  2000-12-31 22:00:55         2                 50\n",
       "3        1     1022       5  2000-12-31 22:00:55         3                 49\n",
       "4        1     2340       3  2000-12-31 22:01:43         4                 48"
      ]
     },
     "execution_count": 4,
     "metadata": {},
     "output_type": "execute_result"
    }
   ],
   "source": [
    "data = pd.read_csv(DATA_PATH)\n",
    "data = add_time_idx(data)\n",
    "print(data.shape)\n",
    "data.head()"
   ]
  },
  {
   "cell_type": "code",
   "execution_count": 6,
   "id": "bc3eb357-de61-432f-ab87-603027762769",
   "metadata": {
    "tags": []
   },
   "outputs": [
    {
     "data": {
      "text/plain": [
       "(6040, 3416)"
      ]
     },
     "execution_count": 6,
     "metadata": {},
     "output_type": "execute_result"
    }
   ],
   "source": [
    "data.user_id.nunique(), data.item_id.nunique()"
   ]
  },
  {
   "cell_type": "code",
   "execution_count": 7,
   "id": "3ba08a35-1f8a-4548-b321-632dd0d7eef1",
   "metadata": {
    "tags": []
   },
   "outputs": [
    {
     "data": {
      "text/plain": [
       "count    6040.000000\n",
       "mean      165.498510\n",
       "std       192.543909\n",
       "min        18.000000\n",
       "25%        44.000000\n",
       "50%        96.000000\n",
       "75%       207.250000\n",
       "max      2277.000000\n",
       "Name: user_id, dtype: float64"
      ]
     },
     "execution_count": 7,
     "metadata": {},
     "output_type": "execute_result"
    }
   ],
   "source": [
    "data.user_id.value_counts().describe()"
   ]
  },
  {
   "cell_type": "code",
   "execution_count": 8,
   "id": "1fceb012-fc4a-4463-83df-fe9922c7befe",
   "metadata": {
    "tags": []
   },
   "outputs": [
    {
     "data": {
      "text/plain": [
       "count    3416.000000\n",
       "mean      292.626171\n",
       "std       391.674786\n",
       "min         5.000000\n",
       "25%        47.000000\n",
       "50%       146.000000\n",
       "75%       374.250000\n",
       "max      3428.000000\n",
       "Name: item_id, dtype: float64"
      ]
     },
     "execution_count": 8,
     "metadata": {},
     "output_type": "execute_result"
    }
   ],
   "source": [
    "data.item_id.value_counts().describe()"
   ]
  },
  {
   "cell_type": "code",
   "execution_count": 6,
   "id": "17edde79-5e33-4a65-a679-94357f349597",
   "metadata": {},
   "outputs": [],
   "source": [
    "# for the next-10-items prediction\n",
    "train = data[data.time_idx_reversed >= 10]\n",
    "test = data[data.time_idx_reversed < 10]\n",
    "\n",
    "users_validation, users_test = train_test_split(\n",
    "    test.user_id.unique(), test_size=0.5, random_state=42)\n",
    "validation = test[test.user_id.isin(users_validation)]\n",
    "test = test[test.user_id.isin(users_test)]\n",
    "\n",
    "train = add_time_idx(train)\n",
    "validation = add_time_idx(validation)\n",
    "test = add_time_idx(test)"
   ]
  },
  {
   "cell_type": "code",
   "execution_count": 12,
   "id": "2f420d09-54a2-4ca1-9592-c6f53d05ae93",
   "metadata": {},
   "outputs": [
    {
     "data": {
      "text/html": [
       "<div>\n",
       "<style scoped>\n",
       "    .dataframe tbody tr th:only-of-type {\n",
       "        vertical-align: middle;\n",
       "    }\n",
       "\n",
       "    .dataframe tbody tr th {\n",
       "        vertical-align: top;\n",
       "    }\n",
       "\n",
       "    .dataframe thead th {\n",
       "        text-align: right;\n",
       "    }\n",
       "</style>\n",
       "<table border=\"1\" class=\"dataframe\">\n",
       "  <thead>\n",
       "    <tr style=\"text-align: right;\">\n",
       "      <th></th>\n",
       "      <th>user_id</th>\n",
       "      <th>item_id</th>\n",
       "      <th>rating</th>\n",
       "      <th>timestamp</th>\n",
       "      <th>time_idx</th>\n",
       "      <th>time_idx_reversed</th>\n",
       "    </tr>\n",
       "  </thead>\n",
       "  <tbody>\n",
       "    <tr>\n",
       "      <th>43</th>\n",
       "      <td>1</td>\n",
       "      <td>2687</td>\n",
       "      <td>3</td>\n",
       "      <td>2001-01-06 23:37:48</td>\n",
       "      <td>0</td>\n",
       "      <td>9</td>\n",
       "    </tr>\n",
       "    <tr>\n",
       "      <th>544</th>\n",
       "      <td>7</td>\n",
       "      <td>474</td>\n",
       "      <td>5</td>\n",
       "      <td>2000-12-31 03:54:02</td>\n",
       "      <td>0</td>\n",
       "      <td>9</td>\n",
       "    </tr>\n",
       "    <tr>\n",
       "      <th>789</th>\n",
       "      <td>9</td>\n",
       "      <td>349</td>\n",
       "      <td>4</td>\n",
       "      <td>2000-12-31 01:36:04</td>\n",
       "      <td>0</td>\n",
       "      <td>9</td>\n",
       "    </tr>\n",
       "    <tr>\n",
       "      <th>1458</th>\n",
       "      <td>13</td>\n",
       "      <td>2470</td>\n",
       "      <td>3</td>\n",
       "      <td>2000-12-30 18:55:24</td>\n",
       "      <td>0</td>\n",
       "      <td>9</td>\n",
       "    </tr>\n",
       "    <tr>\n",
       "      <th>1684</th>\n",
       "      <td>15</td>\n",
       "      <td>1291</td>\n",
       "      <td>2</td>\n",
       "      <td>2000-12-30 21:44:05</td>\n",
       "      <td>0</td>\n",
       "      <td>9</td>\n",
       "    </tr>\n",
       "  </tbody>\n",
       "</table>\n",
       "</div>"
      ],
      "text/plain": [
       "      user_id  item_id  rating            timestamp  time_idx  \\\n",
       "43          1     2687       3  2001-01-06 23:37:48         0   \n",
       "544         7      474       5  2000-12-31 03:54:02         0   \n",
       "789         9      349       4  2000-12-31 01:36:04         0   \n",
       "1458       13     2470       3  2000-12-30 18:55:24         0   \n",
       "1684       15     1291       2  2000-12-30 21:44:05         0   \n",
       "\n",
       "      time_idx_reversed  \n",
       "43                    9  \n",
       "544                   9  \n",
       "789                   9  \n",
       "1458                  9  \n",
       "1684                  9  "
      ]
     },
     "execution_count": 12,
     "metadata": {},
     "output_type": "execute_result"
    }
   ],
   "source": [
    "## for the first element of test\n",
    "# test = test[test.time_idx==0]\n",
    "# test.head()"
   ]
  },
  {
   "cell_type": "markdown",
   "id": "8be5ceab-91f7-456e-b94f-79280936b0ec",
   "metadata": {},
   "source": [
    "## Dataloaders"
   ]
  },
  {
   "cell_type": "code",
   "execution_count": 14,
   "id": "158c4910-32cf-465b-b183-576a8d819f13",
   "metadata": {},
   "outputs": [],
   "source": [
    "test_matrix= coo_matrix((np.ones(len(train)), (train.user_id-1, train.item_id-1)), (data.user_id.max(), data.item_id.max()))"
   ]
  },
  {
   "cell_type": "code",
   "execution_count": 15,
   "id": "8ec0ebdc-98c4-4852-8ea1-927202c8b6ce",
   "metadata": {},
   "outputs": [],
   "source": [
    "from recommenders.evaluation.python_evaluation import map_at_k, ndcg_at_k, recall_at_k\n",
    "\n",
    "def compute_metrics(ground_truth, preds, k=10):\n",
    "\n",
    "    if not hasattr(ground_truth, 'rating'):\n",
    "        ground_truth = ground_truth.assign(rating=1)\n",
    "\n",
    "    # when we have 1 true positive, HitRate == Recall and MRR == MAP\n",
    "    metrics = {\n",
    "        'ndcg': ndcg_at_k(ground_truth, preds, col_user='user_id', col_item='item_id',\n",
    "                          col_prediction='prediction', col_rating='rating', k=k),\n",
    "        'recall': recall_at_k(ground_truth, preds, col_user='user_id', col_item='item_id',\n",
    "                                col_prediction='prediction', col_rating='rating', k=k),\n",
    "        'map': map_at_k(ground_truth, preds, col_user='user_id', col_item='item_id',\n",
    "                        col_prediction='prediction', col_rating='rating', k=k)\n",
    "    }\n",
    "\n",
    "    return metrics"
   ]
  },
  {
   "cell_type": "code",
   "execution_count": null,
   "id": "f283aaa1-aecd-41df-b5a3-660955eab9c0",
   "metadata": {
    "scrolled": true
   },
   "outputs": [],
   "source": [
    "time_list=[]\n",
    "recall10 = []\n",
    "ndcg10 = []\n",
    "map10 = []\n",
    "with open(\"bpr_ml1m.json\",\"w\") as f:\n",
    "    for i in range(10):\n",
    "        seed = np.random.randint(1000)\n",
    "        bpr = BayesianPersonalizedRanking(factors=256,use_gpu=True,learning_rate=0.003,regularization=0.001,iterations=200,random_state=seed)\n",
    "\n",
    "        start_time = time.time()\n",
    "        bpr.fit(test_matrix)\n",
    "        time_list.append(time.time() - start_time)\n",
    "\n",
    "        result = bpr.recommend(np.arange(data.user_id.max()),\n",
    "                  test_matrix.tocsr(),\n",
    "                  100,\n",
    "                  True,\n",
    "                  recalculate_user= False)\n",
    "        result_df =pd.DataFrame(columns=[\"user_id\",\"item_id\",\"prediction\"])\n",
    "        result_df[\"user_id\"]=np.repeat(np.arange(1,data.user_id.max()+1), 100)\n",
    "        result_df[\"item_id\"]=result[0].ravel()+1\n",
    "        result_df[\"prediction\"]=result[1].ravel()\n",
    "        metrics = compute_metrics(test, result_df, k=10)\n",
    "        recall10.append(metrics[\"recall\"])\n",
    "        ndcg10.append(metrics[\"ndcg\"])\n",
    "        map10.append(metrics[\"map\"])\n",
    "        \n",
    "        \n",
    "    f.write(f\"\"\"{{\"time\": {np.mean(time_list)},\n",
    "\"recall10\": {np.mean(recall10)},\n",
    "\"ndcg10\": {np.mean(ndcg10)},\n",
    "\"map10\": {np.mean(map10)}}}\\n\"\"\")\n",
    "    "
   ]
  },
  {
   "cell_type": "code",
   "execution_count": null,
   "id": "61e41529-111e-45c6-87da-54df24a23b48",
   "metadata": {},
   "outputs": [],
   "source": []
  }
 ],
 "metadata": {
  "kernelspec": {
   "display_name": "Python 3 (ipykernel)",
   "language": "python",
   "name": "python3"
  },
  "language_info": {
   "codemirror_mode": {
    "name": "ipython",
    "version": 3
   },
   "file_extension": ".py",
   "mimetype": "text/x-python",
   "name": "python",
   "nbconvert_exporter": "python",
   "pygments_lexer": "ipython3",
   "version": "3.9.16"
  }
 },
 "nbformat": 4,
 "nbformat_minor": 5
}
