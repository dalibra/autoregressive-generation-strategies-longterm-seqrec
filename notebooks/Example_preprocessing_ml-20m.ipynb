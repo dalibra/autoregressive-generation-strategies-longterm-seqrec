{
 "cells": [
  {
   "cell_type": "code",
   "execution_count": 1,
   "id": "ff499e73-37a7-4942-9f49-acb7ba521d66",
   "metadata": {},
   "outputs": [],
   "source": [
    "import sys\n",
    "sys.path.append('../')"
   ]
  },
  {
   "cell_type": "code",
   "execution_count": 2,
   "id": "2713764b-d7f7-40ec-99ab-b5f0d730b109",
   "metadata": {},
   "outputs": [],
   "source": [
    "import pandas as pd\n",
    "\n",
    "from src.preprocess import filter_items, filter_users\n",
    "from src.preprocess import add_time_idx"
   ]
  },
  {
   "cell_type": "code",
   "execution_count": 3,
   "id": "ba836d6e-cbae-4dfc-9657-e72039b56f1a",
   "metadata": {},
   "outputs": [],
   "source": [
    "CONFIG = {\n",
    "    'item_min_count': 5,\n",
    "    'user_min_count': 20,\n",
    "    'last_n_items': 10\n",
    "}"
   ]
  },
  {
   "cell_type": "code",
   "execution_count": 4,
   "id": "fecdb824-a21e-493b-8f61-dbd6f3bc280b",
   "metadata": {},
   "outputs": [],
   "source": [
    "DATASET_NAME = 'ml-20m.csv'\n",
    "\n",
    "# Path to folder with DATASET_NAME\n",
    "INPUT_DATA_PATH = '../datasets/'\n",
    "\n",
    "OUTPUT_DATA_PATH = '../data/'"
   ]
  },
  {
   "cell_type": "code",
   "execution_count": 5,
   "id": "b7c13d81-0a84-4a91-b5e0-2a5211157d81",
   "metadata": {},
   "outputs": [
    {
     "name": "stdout",
     "output_type": "stream",
     "text": [
      "(19983694, 4)\n"
     ]
    },
    {
     "data": {
      "text/html": [
       "<div>\n",
       "<style scoped>\n",
       "    .dataframe tbody tr th:only-of-type {\n",
       "        vertical-align: middle;\n",
       "    }\n",
       "\n",
       "    .dataframe tbody tr th {\n",
       "        vertical-align: top;\n",
       "    }\n",
       "\n",
       "    .dataframe thead th {\n",
       "        text-align: right;\n",
       "    }\n",
       "</style>\n",
       "<table border=\"1\" class=\"dataframe\">\n",
       "  <thead>\n",
       "    <tr style=\"text-align: right;\">\n",
       "      <th></th>\n",
       "      <th>user_id</th>\n",
       "      <th>item_id</th>\n",
       "      <th>rating</th>\n",
       "      <th>timestamp</th>\n",
       "    </tr>\n",
       "  </thead>\n",
       "  <tbody>\n",
       "    <tr>\n",
       "      <th>0</th>\n",
       "      <td>0</td>\n",
       "      <td>908</td>\n",
       "      <td>3.5</td>\n",
       "      <td>2004-09-10 03:06:38</td>\n",
       "    </tr>\n",
       "    <tr>\n",
       "      <th>1</th>\n",
       "      <td>0</td>\n",
       "      <td>903</td>\n",
       "      <td>3.5</td>\n",
       "      <td>2004-09-10 03:07:01</td>\n",
       "    </tr>\n",
       "    <tr>\n",
       "      <th>2</th>\n",
       "      <td>0</td>\n",
       "      <td>2598</td>\n",
       "      <td>3.5</td>\n",
       "      <td>2004-09-10 03:07:30</td>\n",
       "    </tr>\n",
       "    <tr>\n",
       "      <th>3</th>\n",
       "      <td>0</td>\n",
       "      <td>1533</td>\n",
       "      <td>3.5</td>\n",
       "      <td>2004-09-10 03:07:36</td>\n",
       "    </tr>\n",
       "    <tr>\n",
       "      <th>4</th>\n",
       "      <td>0</td>\n",
       "      <td>1058</td>\n",
       "      <td>4.0</td>\n",
       "      <td>2004-09-10 03:07:45</td>\n",
       "    </tr>\n",
       "  </tbody>\n",
       "</table>\n",
       "</div>"
      ],
      "text/plain": [
       "   user_id  item_id  rating            timestamp\n",
       "0        0      908     3.5  2004-09-10 03:06:38\n",
       "1        0      903     3.5  2004-09-10 03:07:01\n",
       "2        0     2598     3.5  2004-09-10 03:07:30\n",
       "3        0     1533     3.5  2004-09-10 03:07:36\n",
       "4        0     1058     4.0  2004-09-10 03:07:45"
      ]
     },
     "execution_count": 5,
     "metadata": {},
     "output_type": "execute_result"
    }
   ],
   "source": [
    "dataset = pd.read_csv(INPUT_DATA_PATH + DATASET_NAME)\n",
    "print(dataset.shape)\n",
    "dataset.head()"
   ]
  },
  {
   "cell_type": "code",
   "execution_count": 6,
   "id": "c0edfc50-bc16-4ddc-9a97-7cb7dc72bd29",
   "metadata": {},
   "outputs": [
    {
     "data": {
      "text/plain": [
       "user_id        138476\n",
       "item_id         18342\n",
       "rating             10\n",
       "timestamp    15335139\n",
       "dtype: int64"
      ]
     },
     "execution_count": 6,
     "metadata": {},
     "output_type": "execute_result"
    }
   ],
   "source": [
    "dataset.nunique()"
   ]
  },
  {
   "cell_type": "code",
   "execution_count": 7,
   "id": "db812abf-3a38-4342-9234-62798335c3c4",
   "metadata": {},
   "outputs": [
    {
     "data": {
      "text/html": [
       "<div>\n",
       "<style scoped>\n",
       "    .dataframe tbody tr th:only-of-type {\n",
       "        vertical-align: middle;\n",
       "    }\n",
       "\n",
       "    .dataframe tbody tr th {\n",
       "        vertical-align: top;\n",
       "    }\n",
       "\n",
       "    .dataframe thead th {\n",
       "        text-align: right;\n",
       "    }\n",
       "</style>\n",
       "<table border=\"1\" class=\"dataframe\">\n",
       "  <thead>\n",
       "    <tr style=\"text-align: right;\">\n",
       "      <th></th>\n",
       "      <th>user_id</th>\n",
       "      <th>item_id</th>\n",
       "      <th>rating</th>\n",
       "      <th>timestamp</th>\n",
       "    </tr>\n",
       "  </thead>\n",
       "  <tbody>\n",
       "    <tr>\n",
       "      <th>0</th>\n",
       "      <td>0</td>\n",
       "      <td>908</td>\n",
       "      <td>3.5</td>\n",
       "      <td>2004-09-10 03:06:38</td>\n",
       "    </tr>\n",
       "    <tr>\n",
       "      <th>1</th>\n",
       "      <td>0</td>\n",
       "      <td>903</td>\n",
       "      <td>3.5</td>\n",
       "      <td>2004-09-10 03:07:01</td>\n",
       "    </tr>\n",
       "    <tr>\n",
       "      <th>2</th>\n",
       "      <td>0</td>\n",
       "      <td>2598</td>\n",
       "      <td>3.5</td>\n",
       "      <td>2004-09-10 03:07:30</td>\n",
       "    </tr>\n",
       "    <tr>\n",
       "      <th>3</th>\n",
       "      <td>0</td>\n",
       "      <td>1533</td>\n",
       "      <td>3.5</td>\n",
       "      <td>2004-09-10 03:07:36</td>\n",
       "    </tr>\n",
       "    <tr>\n",
       "      <th>4</th>\n",
       "      <td>0</td>\n",
       "      <td>1058</td>\n",
       "      <td>4.0</td>\n",
       "      <td>2004-09-10 03:07:45</td>\n",
       "    </tr>\n",
       "    <tr>\n",
       "      <th>...</th>\n",
       "      <td>...</td>\n",
       "      <td>...</td>\n",
       "      <td>...</td>\n",
       "      <td>...</td>\n",
       "    </tr>\n",
       "    <tr>\n",
       "      <th>19983689</th>\n",
       "      <td>138475</td>\n",
       "      <td>6395</td>\n",
       "      <td>3.0</td>\n",
       "      <td>2009-12-07 18:18:28</td>\n",
       "    </tr>\n",
       "    <tr>\n",
       "      <th>19983690</th>\n",
       "      <td>138475</td>\n",
       "      <td>11365</td>\n",
       "      <td>4.0</td>\n",
       "      <td>2009-12-07 18:18:40</td>\n",
       "    </tr>\n",
       "    <tr>\n",
       "      <th>19983691</th>\n",
       "      <td>138475</td>\n",
       "      <td>1248</td>\n",
       "      <td>3.0</td>\n",
       "      <td>2010-01-01 20:42:32</td>\n",
       "    </tr>\n",
       "    <tr>\n",
       "      <th>19983692</th>\n",
       "      <td>138475</td>\n",
       "      <td>6848</td>\n",
       "      <td>3.0</td>\n",
       "      <td>2010-01-01 20:42:35</td>\n",
       "    </tr>\n",
       "    <tr>\n",
       "      <th>19983693</th>\n",
       "      <td>138475</td>\n",
       "      <td>402</td>\n",
       "      <td>3.0</td>\n",
       "      <td>2010-01-01 20:42:52</td>\n",
       "    </tr>\n",
       "  </tbody>\n",
       "</table>\n",
       "<p>19983694 rows × 4 columns</p>\n",
       "</div>"
      ],
      "text/plain": [
       "          user_id  item_id  rating            timestamp\n",
       "0               0      908     3.5  2004-09-10 03:06:38\n",
       "1               0      903     3.5  2004-09-10 03:07:01\n",
       "2               0     2598     3.5  2004-09-10 03:07:30\n",
       "3               0     1533     3.5  2004-09-10 03:07:36\n",
       "4               0     1058     4.0  2004-09-10 03:07:45\n",
       "...           ...      ...     ...                  ...\n",
       "19983689   138475     6395     3.0  2009-12-07 18:18:28\n",
       "19983690   138475    11365     4.0  2009-12-07 18:18:40\n",
       "19983691   138475     1248     3.0  2010-01-01 20:42:32\n",
       "19983692   138475     6848     3.0  2010-01-01 20:42:35\n",
       "19983693   138475      402     3.0  2010-01-01 20:42:52\n",
       "\n",
       "[19983694 rows x 4 columns]"
      ]
     },
     "execution_count": 7,
     "metadata": {},
     "output_type": "execute_result"
    }
   ],
   "source": [
    "dataset"
   ]
  },
  {
   "cell_type": "markdown",
   "id": "e10944bd-b07b-42df-846d-a1518e7e3e37",
   "metadata": {},
   "source": [
    "## Preprocess"
   ]
  },
  {
   "cell_type": "code",
   "execution_count": 8,
   "id": "c5cd1447-aa42-4a8d-91a2-d633f8a010af",
   "metadata": {},
   "outputs": [
    {
     "name": "stdout",
     "output_type": "stream",
     "text": [
      "Filtering items..\n",
      "Number of items before 18342\n",
      "Number of items after 18342\n",
      "Interactions length before: 19983694\n",
      "Interactions length after: 19983694\n",
      "Filtering users..\n",
      "Number of users before 138476\n",
      "Number of users after 138476\n",
      "Interactions length before: 19983694\n",
      "Interactions length after: 19983694\n"
     ]
    }
   ],
   "source": [
    "dataset_ = filter_items(dataset, CONFIG['item_min_count'])\n",
    "dataset_ = filter_users(dataset_, CONFIG['user_min_count'])"
   ]
  },
  {
   "cell_type": "code",
   "execution_count": 9,
   "id": "71d29385-b9e1-49f0-ada8-6474a3fb8464",
   "metadata": {},
   "outputs": [
    {
     "data": {
      "text/html": [
       "<div>\n",
       "<style scoped>\n",
       "    .dataframe tbody tr th:only-of-type {\n",
       "        vertical-align: middle;\n",
       "    }\n",
       "\n",
       "    .dataframe tbody tr th {\n",
       "        vertical-align: top;\n",
       "    }\n",
       "\n",
       "    .dataframe thead th {\n",
       "        text-align: right;\n",
       "    }\n",
       "</style>\n",
       "<table border=\"1\" class=\"dataframe\">\n",
       "  <thead>\n",
       "    <tr style=\"text-align: right;\">\n",
       "      <th></th>\n",
       "      <th>user_id</th>\n",
       "      <th>item_id</th>\n",
       "      <th>rating</th>\n",
       "      <th>timestamp</th>\n",
       "    </tr>\n",
       "  </thead>\n",
       "  <tbody>\n",
       "    <tr>\n",
       "      <th>0</th>\n",
       "      <td>0</td>\n",
       "      <td>908</td>\n",
       "      <td>3.5</td>\n",
       "      <td>2004-09-10 03:06:38</td>\n",
       "    </tr>\n",
       "    <tr>\n",
       "      <th>1</th>\n",
       "      <td>0</td>\n",
       "      <td>903</td>\n",
       "      <td>3.5</td>\n",
       "      <td>2004-09-10 03:07:01</td>\n",
       "    </tr>\n",
       "    <tr>\n",
       "      <th>2</th>\n",
       "      <td>0</td>\n",
       "      <td>2598</td>\n",
       "      <td>3.5</td>\n",
       "      <td>2004-09-10 03:07:30</td>\n",
       "    </tr>\n",
       "    <tr>\n",
       "      <th>3</th>\n",
       "      <td>0</td>\n",
       "      <td>1533</td>\n",
       "      <td>3.5</td>\n",
       "      <td>2004-09-10 03:07:36</td>\n",
       "    </tr>\n",
       "    <tr>\n",
       "      <th>4</th>\n",
       "      <td>0</td>\n",
       "      <td>1058</td>\n",
       "      <td>4.0</td>\n",
       "      <td>2004-09-10 03:07:45</td>\n",
       "    </tr>\n",
       "    <tr>\n",
       "      <th>...</th>\n",
       "      <td>...</td>\n",
       "      <td>...</td>\n",
       "      <td>...</td>\n",
       "      <td>...</td>\n",
       "    </tr>\n",
       "    <tr>\n",
       "      <th>19983689</th>\n",
       "      <td>138475</td>\n",
       "      <td>6395</td>\n",
       "      <td>3.0</td>\n",
       "      <td>2009-12-07 18:18:28</td>\n",
       "    </tr>\n",
       "    <tr>\n",
       "      <th>19983690</th>\n",
       "      <td>138475</td>\n",
       "      <td>11365</td>\n",
       "      <td>4.0</td>\n",
       "      <td>2009-12-07 18:18:40</td>\n",
       "    </tr>\n",
       "    <tr>\n",
       "      <th>19983691</th>\n",
       "      <td>138475</td>\n",
       "      <td>1248</td>\n",
       "      <td>3.0</td>\n",
       "      <td>2010-01-01 20:42:32</td>\n",
       "    </tr>\n",
       "    <tr>\n",
       "      <th>19983692</th>\n",
       "      <td>138475</td>\n",
       "      <td>6848</td>\n",
       "      <td>3.0</td>\n",
       "      <td>2010-01-01 20:42:35</td>\n",
       "    </tr>\n",
       "    <tr>\n",
       "      <th>19983693</th>\n",
       "      <td>138475</td>\n",
       "      <td>402</td>\n",
       "      <td>3.0</td>\n",
       "      <td>2010-01-01 20:42:52</td>\n",
       "    </tr>\n",
       "  </tbody>\n",
       "</table>\n",
       "<p>19983694 rows × 4 columns</p>\n",
       "</div>"
      ],
      "text/plain": [
       "          user_id  item_id  rating            timestamp\n",
       "0               0      908     3.5  2004-09-10 03:06:38\n",
       "1               0      903     3.5  2004-09-10 03:07:01\n",
       "2               0     2598     3.5  2004-09-10 03:07:30\n",
       "3               0     1533     3.5  2004-09-10 03:07:36\n",
       "4               0     1058     4.0  2004-09-10 03:07:45\n",
       "...           ...      ...     ...                  ...\n",
       "19983689   138475     6395     3.0  2009-12-07 18:18:28\n",
       "19983690   138475    11365     4.0  2009-12-07 18:18:40\n",
       "19983691   138475     1248     3.0  2010-01-01 20:42:32\n",
       "19983692   138475     6848     3.0  2010-01-01 20:42:35\n",
       "19983693   138475      402     3.0  2010-01-01 20:42:52\n",
       "\n",
       "[19983694 rows x 4 columns]"
      ]
     },
     "execution_count": 9,
     "metadata": {},
     "output_type": "execute_result"
    }
   ],
   "source": [
    "dataset_"
   ]
  },
  {
   "cell_type": "code",
   "execution_count": 10,
   "id": "e85547c8-439e-432c-a3ab-ea23cbdf372f",
   "metadata": {},
   "outputs": [
    {
     "name": "stdout",
     "output_type": "stream",
     "text": [
      "(19983694, 6)\n",
      "CPU times: user 52.4 s, sys: 3.92 s, total: 56.3 s\n",
      "Wall time: 56.3 s\n"
     ]
    }
   ],
   "source": [
    "%%time\n",
    "dataset_ = add_time_idx(dataset_)\n",
    "print(dataset_.shape)"
   ]
  },
  {
   "cell_type": "code",
   "execution_count": 11,
   "id": "29c2c6c6-80c0-4c0e-b087-052ab996c00c",
   "metadata": {},
   "outputs": [],
   "source": [
    "dataset_.user_id = dataset_.user_id.astype('category').cat.codes\n",
    "\n",
    "# We later use 0 as a padding_idx\n",
    "dataset_.item_id = dataset_.item_id.astype('category').cat.codes + 1"
   ]
  },
  {
   "cell_type": "code",
   "execution_count": 12,
   "id": "640c8709-06dd-458d-b3c8-ddca510f1a98",
   "metadata": {},
   "outputs": [],
   "source": [
    "dataset_ = dataset_.drop(['time_idx', 'time_idx_reversed'], axis=1)"
   ]
  },
  {
   "cell_type": "code",
   "execution_count": 13,
   "id": "76f8a5e5-5e02-4fcf-86d9-ec22b98a2ded",
   "metadata": {
    "scrolled": true
   },
   "outputs": [
    {
     "data": {
      "text/html": [
       "<div>\n",
       "<style scoped>\n",
       "    .dataframe tbody tr th:only-of-type {\n",
       "        vertical-align: middle;\n",
       "    }\n",
       "\n",
       "    .dataframe tbody tr th {\n",
       "        vertical-align: top;\n",
       "    }\n",
       "\n",
       "    .dataframe thead th {\n",
       "        text-align: right;\n",
       "    }\n",
       "</style>\n",
       "<table border=\"1\" class=\"dataframe\">\n",
       "  <thead>\n",
       "    <tr style=\"text-align: right;\">\n",
       "      <th></th>\n",
       "      <th>user_id</th>\n",
       "      <th>item_id</th>\n",
       "      <th>rating</th>\n",
       "      <th>timestamp</th>\n",
       "    </tr>\n",
       "  </thead>\n",
       "  <tbody>\n",
       "    <tr>\n",
       "      <th>0</th>\n",
       "      <td>0</td>\n",
       "      <td>908</td>\n",
       "      <td>3.5</td>\n",
       "      <td>2004-09-10 03:06:38</td>\n",
       "    </tr>\n",
       "    <tr>\n",
       "      <th>1</th>\n",
       "      <td>0</td>\n",
       "      <td>903</td>\n",
       "      <td>3.5</td>\n",
       "      <td>2004-09-10 03:07:01</td>\n",
       "    </tr>\n",
       "    <tr>\n",
       "      <th>2</th>\n",
       "      <td>0</td>\n",
       "      <td>2598</td>\n",
       "      <td>3.5</td>\n",
       "      <td>2004-09-10 03:07:30</td>\n",
       "    </tr>\n",
       "    <tr>\n",
       "      <th>3</th>\n",
       "      <td>0</td>\n",
       "      <td>1533</td>\n",
       "      <td>3.5</td>\n",
       "      <td>2004-09-10 03:07:36</td>\n",
       "    </tr>\n",
       "    <tr>\n",
       "      <th>4</th>\n",
       "      <td>0</td>\n",
       "      <td>1058</td>\n",
       "      <td>4.0</td>\n",
       "      <td>2004-09-10 03:07:45</td>\n",
       "    </tr>\n",
       "    <tr>\n",
       "      <th>...</th>\n",
       "      <td>...</td>\n",
       "      <td>...</td>\n",
       "      <td>...</td>\n",
       "      <td>...</td>\n",
       "    </tr>\n",
       "    <tr>\n",
       "      <th>19983689</th>\n",
       "      <td>138475</td>\n",
       "      <td>6395</td>\n",
       "      <td>3.0</td>\n",
       "      <td>2009-12-07 18:18:28</td>\n",
       "    </tr>\n",
       "    <tr>\n",
       "      <th>19983690</th>\n",
       "      <td>138475</td>\n",
       "      <td>11365</td>\n",
       "      <td>4.0</td>\n",
       "      <td>2009-12-07 18:18:40</td>\n",
       "    </tr>\n",
       "    <tr>\n",
       "      <th>19983691</th>\n",
       "      <td>138475</td>\n",
       "      <td>1248</td>\n",
       "      <td>3.0</td>\n",
       "      <td>2010-01-01 20:42:32</td>\n",
       "    </tr>\n",
       "    <tr>\n",
       "      <th>19983692</th>\n",
       "      <td>138475</td>\n",
       "      <td>6848</td>\n",
       "      <td>3.0</td>\n",
       "      <td>2010-01-01 20:42:35</td>\n",
       "    </tr>\n",
       "    <tr>\n",
       "      <th>19983693</th>\n",
       "      <td>138475</td>\n",
       "      <td>402</td>\n",
       "      <td>3.0</td>\n",
       "      <td>2010-01-01 20:42:52</td>\n",
       "    </tr>\n",
       "  </tbody>\n",
       "</table>\n",
       "<p>19983694 rows × 4 columns</p>\n",
       "</div>"
      ],
      "text/plain": [
       "          user_id  item_id  rating            timestamp\n",
       "0               0      908     3.5  2004-09-10 03:06:38\n",
       "1               0      903     3.5  2004-09-10 03:07:01\n",
       "2               0     2598     3.5  2004-09-10 03:07:30\n",
       "3               0     1533     3.5  2004-09-10 03:07:36\n",
       "4               0     1058     4.0  2004-09-10 03:07:45\n",
       "...           ...      ...     ...                  ...\n",
       "19983689   138475     6395     3.0  2009-12-07 18:18:28\n",
       "19983690   138475    11365     4.0  2009-12-07 18:18:40\n",
       "19983691   138475     1248     3.0  2010-01-01 20:42:32\n",
       "19983692   138475     6848     3.0  2010-01-01 20:42:35\n",
       "19983693   138475      402     3.0  2010-01-01 20:42:52\n",
       "\n",
       "[19983694 rows x 4 columns]"
      ]
     },
     "execution_count": 13,
     "metadata": {},
     "output_type": "execute_result"
    }
   ],
   "source": [
    "dataset_"
   ]
  },
  {
   "cell_type": "code",
   "execution_count": 14,
   "id": "50de95b7-5ef8-481b-a252-686de3b3cafe",
   "metadata": {},
   "outputs": [
    {
     "data": {
      "text/plain": [
       "user_id        138476\n",
       "item_id         18342\n",
       "rating             10\n",
       "timestamp    15335139\n",
       "dtype: int64"
      ]
     },
     "execution_count": 14,
     "metadata": {},
     "output_type": "execute_result"
    }
   ],
   "source": [
    "dataset_.nunique()"
   ]
  },
  {
   "cell_type": "code",
   "execution_count": 15,
   "id": "b1d32bda-ea9f-4bdf-980d-f1aa645f6652",
   "metadata": {},
   "outputs": [
    {
     "data": {
      "text/plain": [
       "144.31160634333747"
      ]
     },
     "execution_count": 15,
     "metadata": {},
     "output_type": "execute_result"
    }
   ],
   "source": [
    "dataset_.groupby('user_id')['timestamp'].count().mean()"
   ]
  },
  {
   "cell_type": "code",
   "execution_count": 16,
   "id": "af33a728-3f09-48cf-9dc0-361452007217",
   "metadata": {},
   "outputs": [],
   "source": [
    "dataset_.to_csv(OUTPUT_DATA_PATH + DATASET_NAME, index=False)"
   ]
  }
 ],
 "metadata": {
  "kernelspec": {
   "display_name": "Python 3 (ipykernel)",
   "language": "python",
   "name": "python3"
  },
  "language_info": {
   "codemirror_mode": {
    "name": "ipython",
    "version": 3
   },
   "file_extension": ".py",
   "mimetype": "text/x-python",
   "name": "python",
   "nbconvert_exporter": "python",
   "pygments_lexer": "ipython3",
   "version": "3.9.16"
  }
 },
 "nbformat": 4,
 "nbformat_minor": 5
}
