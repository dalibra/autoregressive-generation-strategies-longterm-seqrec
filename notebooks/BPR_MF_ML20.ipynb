{
 "cells": [
  {
   "cell_type": "code",
   "execution_count": 12,
   "id": "1bf6132d-2755-4c9e-945a-6c67418bdd0f",
   "metadata": {
    "tags": []
   },
   "outputs": [],
   "source": [
    "import os\n",
    "os.environ[\"CUDA_DEVICE_ORDER\"] = \"PCI_BUS_ID\"\n",
    "os.environ[\"CUDA_VISIBLE_DEVICES\"] = \"1\"\n",
    "import sys\n",
    "sys.path.append('../')"
   ]
  },
  {
   "cell_type": "code",
   "execution_count": 13,
   "id": "96da0f91-c34a-48dc-9329-32076f13cf27",
   "metadata": {
    "tags": []
   },
   "outputs": [],
   "source": [
    "import pandas as pd\n",
    "import numpy as np\n",
    "import time\n",
    "from implicit.bpr import BayesianPersonalizedRanking\n",
    "from scipy.sparse import coo_matrix\n",
    "\n",
    "from src.preprocess import add_time_idx\n",
    "from sklearn.model_selection import train_test_split"
   ]
  },
  {
   "cell_type": "markdown",
   "id": "ce7d13ea-1a79-460d-a558-421745f38c3e",
   "metadata": {},
   "source": [
    "## Load Data"
   ]
  },
  {
   "cell_type": "code",
   "execution_count": 3,
   "id": "6b6aefa6-8c82-44f9-b75e-2038fa676bf6",
   "metadata": {
    "tags": []
   },
   "outputs": [],
   "source": [
    "DATA_PATH = '../data/ml-20m.csv'"
   ]
  },
  {
   "cell_type": "code",
   "execution_count": 4,
   "id": "b4fe6456-63ac-4caa-9607-65ed9b108554",
   "metadata": {
    "tags": []
   },
   "outputs": [
    {
     "name": "stdout",
     "output_type": "stream",
     "text": [
      "(20000263, 6)\n"
     ]
    },
    {
     "data": {
      "text/html": [
       "<div>\n",
       "<style scoped>\n",
       "    .dataframe tbody tr th:only-of-type {\n",
       "        vertical-align: middle;\n",
       "    }\n",
       "\n",
       "    .dataframe tbody tr th {\n",
       "        vertical-align: top;\n",
       "    }\n",
       "\n",
       "    .dataframe thead th {\n",
       "        text-align: right;\n",
       "    }\n",
       "</style>\n",
       "<table border=\"1\" class=\"dataframe\">\n",
       "  <thead>\n",
       "    <tr style=\"text-align: right;\">\n",
       "      <th></th>\n",
       "      <th>user_id</th>\n",
       "      <th>item_id</th>\n",
       "      <th>rating</th>\n",
       "      <th>timestamp</th>\n",
       "      <th>time_idx</th>\n",
       "      <th>time_idx_reversed</th>\n",
       "    </tr>\n",
       "  </thead>\n",
       "  <tbody>\n",
       "    <tr>\n",
       "      <th>0</th>\n",
       "      <td>1</td>\n",
       "      <td>924</td>\n",
       "      <td>3.5</td>\n",
       "      <td>2004-09-10 03:06:38</td>\n",
       "      <td>0</td>\n",
       "      <td>174</td>\n",
       "    </tr>\n",
       "    <tr>\n",
       "      <th>1</th>\n",
       "      <td>1</td>\n",
       "      <td>919</td>\n",
       "      <td>3.5</td>\n",
       "      <td>2004-09-10 03:07:01</td>\n",
       "      <td>1</td>\n",
       "      <td>173</td>\n",
       "    </tr>\n",
       "    <tr>\n",
       "      <th>2</th>\n",
       "      <td>1</td>\n",
       "      <td>2683</td>\n",
       "      <td>3.5</td>\n",
       "      <td>2004-09-10 03:07:30</td>\n",
       "      <td>2</td>\n",
       "      <td>172</td>\n",
       "    </tr>\n",
       "    <tr>\n",
       "      <th>3</th>\n",
       "      <td>1</td>\n",
       "      <td>1584</td>\n",
       "      <td>3.5</td>\n",
       "      <td>2004-09-10 03:07:36</td>\n",
       "      <td>3</td>\n",
       "      <td>171</td>\n",
       "    </tr>\n",
       "    <tr>\n",
       "      <th>4</th>\n",
       "      <td>1</td>\n",
       "      <td>1079</td>\n",
       "      <td>4.0</td>\n",
       "      <td>2004-09-10 03:07:45</td>\n",
       "      <td>4</td>\n",
       "      <td>170</td>\n",
       "    </tr>\n",
       "  </tbody>\n",
       "</table>\n",
       "</div>"
      ],
      "text/plain": [
       "   user_id  item_id  rating            timestamp  time_idx  time_idx_reversed\n",
       "0        1      924     3.5  2004-09-10 03:06:38         0                174\n",
       "1        1      919     3.5  2004-09-10 03:07:01         1                173\n",
       "2        1     2683     3.5  2004-09-10 03:07:30         2                172\n",
       "3        1     1584     3.5  2004-09-10 03:07:36         3                171\n",
       "4        1     1079     4.0  2004-09-10 03:07:45         4                170"
      ]
     },
     "execution_count": 4,
     "metadata": {},
     "output_type": "execute_result"
    }
   ],
   "source": [
    "data = pd.read_csv(DATA_PATH)\n",
    "data = add_time_idx(data)\n",
    "print(data.shape)\n",
    "data.head()"
   ]
  },
  {
   "cell_type": "code",
   "execution_count": 13,
   "id": "bc3eb357-de61-432f-ab87-603027762769",
   "metadata": {
    "tags": []
   },
   "outputs": [
    {
     "data": {
      "text/plain": [
       "(138493, 26744)"
      ]
     },
     "execution_count": 13,
     "metadata": {},
     "output_type": "execute_result"
    }
   ],
   "source": [
    "data.user_id.nunique(), data.item_id.nunique()"
   ]
  },
  {
   "cell_type": "code",
   "execution_count": 14,
   "id": "3ba08a35-1f8a-4548-b321-632dd0d7eef1",
   "metadata": {
    "tags": []
   },
   "outputs": [
    {
     "data": {
      "text/plain": [
       "count    138493.000000\n",
       "mean        144.413530\n",
       "std         230.267257\n",
       "min          20.000000\n",
       "25%          35.000000\n",
       "50%          68.000000\n",
       "75%         155.000000\n",
       "max        9254.000000\n",
       "Name: user_id, dtype: float64"
      ]
     },
     "execution_count": 14,
     "metadata": {},
     "output_type": "execute_result"
    }
   ],
   "source": [
    "data.user_id.value_counts().describe()"
   ]
  },
  {
   "cell_type": "code",
   "execution_count": 15,
   "id": "1fceb012-fc4a-4463-83df-fe9922c7befe",
   "metadata": {
    "tags": []
   },
   "outputs": [
    {
     "data": {
      "text/plain": [
       "count    26744.000000\n",
       "mean       747.841123\n",
       "std       3085.818268\n",
       "min          1.000000\n",
       "25%          3.000000\n",
       "50%         18.000000\n",
       "75%        205.000000\n",
       "max      67310.000000\n",
       "Name: item_id, dtype: float64"
      ]
     },
     "execution_count": 15,
     "metadata": {},
     "output_type": "execute_result"
    }
   ],
   "source": [
    "data.item_id.value_counts().describe()"
   ]
  },
  {
   "cell_type": "code",
   "execution_count": 5,
   "id": "6b293494-60af-4922-8528-abe66d43d30b",
   "metadata": {
    "scrolled": true,
    "tags": []
   },
   "outputs": [],
   "source": [
    "# for the next-10-items prediction\n",
    "train = data[data.time_idx_reversed >= 10]\n",
    "test = data[data.time_idx_reversed < 10]\n",
    "\n",
    "users_validation, users_test = train_test_split(\n",
    "    test.user_id.unique(), test_size=0.5, random_state=42)\n",
    "validation = test[test.user_id.isin(users_validation)]\n",
    "test = test[test.user_id.isin(users_test)]\n",
    "\n",
    "train = add_time_idx(train)\n",
    "validation = add_time_idx(validation)\n",
    "test = add_time_idx(test)"
   ]
  },
  {
   "cell_type": "code",
   "execution_count": 7,
   "id": "2f420d09-54a2-4ca1-9592-c6f53d05ae93",
   "metadata": {},
   "outputs": [
    {
     "data": {
      "text/html": [
       "<div>\n",
       "<style scoped>\n",
       "    .dataframe tbody tr th:only-of-type {\n",
       "        vertical-align: middle;\n",
       "    }\n",
       "\n",
       "    .dataframe tbody tr th {\n",
       "        vertical-align: top;\n",
       "    }\n",
       "\n",
       "    .dataframe thead th {\n",
       "        text-align: right;\n",
       "    }\n",
       "</style>\n",
       "<table border=\"1\" class=\"dataframe\">\n",
       "  <thead>\n",
       "    <tr style=\"text-align: right;\">\n",
       "      <th></th>\n",
       "      <th>user_id</th>\n",
       "      <th>item_id</th>\n",
       "      <th>rating</th>\n",
       "      <th>timestamp</th>\n",
       "      <th>time_idx</th>\n",
       "      <th>time_idx_reversed</th>\n",
       "    </tr>\n",
       "  </thead>\n",
       "  <tbody>\n",
       "    <tr>\n",
       "      <th>165</th>\n",
       "      <td>1</td>\n",
       "      <td>7454</td>\n",
       "      <td>4.0</td>\n",
       "      <td>2005-04-02 23:55:08</td>\n",
       "      <td>0</td>\n",
       "      <td>9</td>\n",
       "    </tr>\n",
       "    <tr>\n",
       "      <th>226</th>\n",
       "      <td>2</td>\n",
       "      <td>1972</td>\n",
       "      <td>2.0</td>\n",
       "      <td>2000-11-21 15:36:09</td>\n",
       "      <td>0</td>\n",
       "      <td>9</td>\n",
       "    </tr>\n",
       "    <tr>\n",
       "      <th>441</th>\n",
       "      <td>4</td>\n",
       "      <td>370</td>\n",
       "      <td>4.0</td>\n",
       "      <td>1996-08-24 09:34:03</td>\n",
       "      <td>0</td>\n",
       "      <td>9</td>\n",
       "    </tr>\n",
       "    <tr>\n",
       "      <th>507</th>\n",
       "      <td>5</td>\n",
       "      <td>594</td>\n",
       "      <td>5.0</td>\n",
       "      <td>1996-12-26 16:26:29</td>\n",
       "      <td>0</td>\n",
       "      <td>9</td>\n",
       "    </tr>\n",
       "    <tr>\n",
       "      <th>877</th>\n",
       "      <td>8</td>\n",
       "      <td>508</td>\n",
       "      <td>3.0</td>\n",
       "      <td>1996-06-05 13:55:57</td>\n",
       "      <td>0</td>\n",
       "      <td>9</td>\n",
       "    </tr>\n",
       "  </tbody>\n",
       "</table>\n",
       "</div>"
      ],
      "text/plain": [
       "     user_id  item_id  rating            timestamp  time_idx  \\\n",
       "165        1     7454     4.0  2005-04-02 23:55:08         0   \n",
       "226        2     1972     2.0  2000-11-21 15:36:09         0   \n",
       "441        4      370     4.0  1996-08-24 09:34:03         0   \n",
       "507        5      594     5.0  1996-12-26 16:26:29         0   \n",
       "877        8      508     3.0  1996-06-05 13:55:57         0   \n",
       "\n",
       "     time_idx_reversed  \n",
       "165                  9  \n",
       "226                  9  \n",
       "441                  9  \n",
       "507                  9  \n",
       "877                  9  "
      ]
     },
     "execution_count": 7,
     "metadata": {},
     "output_type": "execute_result"
    }
   ],
   "source": [
    "## for the next-item prediction\n",
    "# test = test[test.time_idx==0]\n",
    "# test.head()"
   ]
  },
  {
   "cell_type": "markdown",
   "id": "8be5ceab-91f7-456e-b94f-79280936b0ec",
   "metadata": {},
   "source": [
    "## Dataloaders"
   ]
  },
  {
   "cell_type": "code",
   "execution_count": 9,
   "id": "158c4910-32cf-465b-b183-576a8d819f13",
   "metadata": {},
   "outputs": [],
   "source": [
    "test_matrix= coo_matrix((np.ones(len(train)), (train.user_id-1, train.item_id-1)), (data.user_id.max(), data.item_id.max()))"
   ]
  },
  {
   "cell_type": "code",
   "execution_count": 10,
   "id": "8ec0ebdc-98c4-4852-8ea1-927202c8b6ce",
   "metadata": {},
   "outputs": [],
   "source": [
    "from recommenders.evaluation.python_evaluation import map_at_k, ndcg_at_k, recall_at_k\n",
    "\n",
    "def compute_metrics(ground_truth, preds, k=10):\n",
    "\n",
    "    if not hasattr(ground_truth, 'rating'):\n",
    "        ground_truth = ground_truth.assign(rating=1)\n",
    "\n",
    "    # when we have 1 true positive, HitRate == Recall and MRR == MAP\n",
    "    metrics = {\n",
    "        'ndcg': ndcg_at_k(ground_truth, preds, col_user='user_id', col_item='item_id',\n",
    "                          col_prediction='prediction', col_rating='rating', k=k),\n",
    "        'recall': recall_at_k(ground_truth, preds, col_user='user_id', col_item='item_id',\n",
    "                                col_prediction='prediction', col_rating='rating', k=k),\n",
    "        'map': map_at_k(ground_truth, preds, col_user='user_id', col_item='item_id',\n",
    "                        col_prediction='prediction', col_rating='rating', k=k)\n",
    "    }\n",
    "\n",
    "    return metrics"
   ]
  },
  {
   "cell_type": "code",
   "execution_count": null,
   "id": "f283aaa1-aecd-41df-b5a3-660955eab9c0",
   "metadata": {
    "scrolled": true
   },
   "outputs": [],
   "source": [
    "time_list=[]\n",
    "recall10 = []\n",
    "ndcg10 = []\n",
    "map10 = []\n",
    "with open(\"bpr_ml20m.json\",\"w\") as f:\n",
    "    for i in range(10):\n",
    "        seed = np.random.randint(1000)\n",
    "        bpr = BayesianPersonalizedRanking(factors=128,use_gpu=True,learning_rate=0.05,regularization=0.01,random_state=seed)\n",
    "\n",
    "        start_time = time.time()\n",
    "        bpr.fit(test_matrix)\n",
    "        time_list.append(time.time() - start_time)\n",
    "\n",
    "        result = bpr.recommend(np.arange(data.user_id.max()),\n",
    "                  test_matrix.tocsr(),\n",
    "                  100,\n",
    "                  True,\n",
    "                  recalculate_user= False)\n",
    "        result_df =pd.DataFrame(columns=[\"user_id\",\"item_id\",\"prediction\"])\n",
    "        result_df[\"user_id\"]=np.repeat(np.arange(1,data.user_id.max()+1), 100)\n",
    "        result_df[\"item_id\"]=result[0].ravel()+1\n",
    "        result_df[\"prediction\"]=result[1].ravel()\n",
    "        metrics = compute_metrics(test, result_df, k=10)\n",
    "        recall10.append(metrics[\"recall\"])\n",
    "        ndcg10.append(metrics[\"ndcg\"])\n",
    "        map10.append(metrics[\"map\"])\n",
    "        \n",
    "        \n",
    "    f.write(f\"\"\"{{\"time\": {np.mean(time_list)},\n",
    "\"recall10\": {np.mean(recall10)},\n",
    "\"ndcg10\": {np.mean(ndcg10)},\n",
    "\"map10\": {np.mean(map10)}}}\\n\"\"\")\n",
    "    "
   ]
  },
  {
   "cell_type": "code",
   "execution_count": null,
   "id": "55272716-f108-41fa-a32e-9337c0d95487",
   "metadata": {},
   "outputs": [],
   "source": []
  }
 ],
 "metadata": {
  "kernelspec": {
   "display_name": "Python 3 (ipykernel)",
   "language": "python",
   "name": "python3"
  },
  "language_info": {
   "codemirror_mode": {
    "name": "ipython",
    "version": 3
   },
   "file_extension": ".py",
   "mimetype": "text/x-python",
   "name": "python",
   "nbconvert_exporter": "python",
   "pygments_lexer": "ipython3",
   "version": "3.9.16"
  }
 },
 "nbformat": 4,
 "nbformat_minor": 5
}
